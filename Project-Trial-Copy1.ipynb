{
 "cells": [
  {
   "cell_type": "markdown",
   "metadata": {},
   "source": [
    "# IMPORTING LIBRARIES"
   ]
  },
  {
   "cell_type": "code",
   "execution_count": 1,
   "metadata": {},
   "outputs": [],
   "source": [
    "import numpy as np\n",
    "import pandas as pd\n",
    "import matplotlib.pyplot as plt\n",
    "from scipy import stats\n",
    "import joblib"
   ]
  },
  {
   "cell_type": "markdown",
   "metadata": {},
   "source": [
    "# IMPORTING DATASET"
   ]
  },
  {
   "cell_type": "code",
   "execution_count": 43,
   "metadata": {},
   "outputs": [
    {
     "data": {
      "text/html": [
       "<div>\n",
       "<style scoped>\n",
       "    .dataframe tbody tr th:only-of-type {\n",
       "        vertical-align: middle;\n",
       "    }\n",
       "\n",
       "    .dataframe tbody tr th {\n",
       "        vertical-align: top;\n",
       "    }\n",
       "\n",
       "    .dataframe thead th {\n",
       "        text-align: right;\n",
       "    }\n",
       "</style>\n",
       "<table border=\"1\" class=\"dataframe\">\n",
       "  <thead>\n",
       "    <tr style=\"text-align: right;\">\n",
       "      <th></th>\n",
       "      <th>MODELYEAR</th>\n",
       "      <th>MAKE</th>\n",
       "      <th>MODEL</th>\n",
       "      <th>VEHICLECLASS</th>\n",
       "      <th>ENGINESIZE</th>\n",
       "      <th>CYLINDERS</th>\n",
       "      <th>TRANSMISSION</th>\n",
       "      <th>FUELTYPE</th>\n",
       "      <th>FUELCONSUMPTION_CITY</th>\n",
       "      <th>FUELCONSUMPTION_HWY</th>\n",
       "      <th>FUELCONSUMPTION_COMB</th>\n",
       "      <th>FUELCONSUMPTION_COMB_MPG</th>\n",
       "      <th>CO2EMISSIONS</th>\n",
       "    </tr>\n",
       "  </thead>\n",
       "  <tbody>\n",
       "    <tr>\n",
       "      <th>0</th>\n",
       "      <td>2014</td>\n",
       "      <td>ACURA</td>\n",
       "      <td>ILX</td>\n",
       "      <td>COMPACT</td>\n",
       "      <td>2.0</td>\n",
       "      <td>4</td>\n",
       "      <td>AS5</td>\n",
       "      <td>Z</td>\n",
       "      <td>9.9</td>\n",
       "      <td>6.7</td>\n",
       "      <td>8.5</td>\n",
       "      <td>33</td>\n",
       "      <td>196</td>\n",
       "    </tr>\n",
       "    <tr>\n",
       "      <th>1</th>\n",
       "      <td>2014</td>\n",
       "      <td>ACURA</td>\n",
       "      <td>ILX</td>\n",
       "      <td>COMPACT</td>\n",
       "      <td>2.4</td>\n",
       "      <td>4</td>\n",
       "      <td>M6</td>\n",
       "      <td>Z</td>\n",
       "      <td>11.2</td>\n",
       "      <td>7.7</td>\n",
       "      <td>9.6</td>\n",
       "      <td>29</td>\n",
       "      <td>221</td>\n",
       "    </tr>\n",
       "    <tr>\n",
       "      <th>2</th>\n",
       "      <td>2014</td>\n",
       "      <td>ACURA</td>\n",
       "      <td>ILX HYBRID</td>\n",
       "      <td>COMPACT</td>\n",
       "      <td>1.5</td>\n",
       "      <td>4</td>\n",
       "      <td>AV7</td>\n",
       "      <td>Z</td>\n",
       "      <td>6.0</td>\n",
       "      <td>5.8</td>\n",
       "      <td>5.9</td>\n",
       "      <td>48</td>\n",
       "      <td>136</td>\n",
       "    </tr>\n",
       "    <tr>\n",
       "      <th>3</th>\n",
       "      <td>2014</td>\n",
       "      <td>ACURA</td>\n",
       "      <td>MDX 4WD</td>\n",
       "      <td>SUV - SMALL</td>\n",
       "      <td>3.5</td>\n",
       "      <td>6</td>\n",
       "      <td>AS6</td>\n",
       "      <td>Z</td>\n",
       "      <td>12.7</td>\n",
       "      <td>9.1</td>\n",
       "      <td>11.1</td>\n",
       "      <td>25</td>\n",
       "      <td>255</td>\n",
       "    </tr>\n",
       "    <tr>\n",
       "      <th>4</th>\n",
       "      <td>2014</td>\n",
       "      <td>ACURA</td>\n",
       "      <td>RDX AWD</td>\n",
       "      <td>SUV - SMALL</td>\n",
       "      <td>3.5</td>\n",
       "      <td>6</td>\n",
       "      <td>AS6</td>\n",
       "      <td>Z</td>\n",
       "      <td>12.1</td>\n",
       "      <td>8.7</td>\n",
       "      <td>10.6</td>\n",
       "      <td>27</td>\n",
       "      <td>244</td>\n",
       "    </tr>\n",
       "    <tr>\n",
       "      <th>...</th>\n",
       "      <td>...</td>\n",
       "      <td>...</td>\n",
       "      <td>...</td>\n",
       "      <td>...</td>\n",
       "      <td>...</td>\n",
       "      <td>...</td>\n",
       "      <td>...</td>\n",
       "      <td>...</td>\n",
       "      <td>...</td>\n",
       "      <td>...</td>\n",
       "      <td>...</td>\n",
       "      <td>...</td>\n",
       "      <td>...</td>\n",
       "    </tr>\n",
       "    <tr>\n",
       "      <th>1062</th>\n",
       "      <td>2014</td>\n",
       "      <td>VOLVO</td>\n",
       "      <td>XC60 AWD</td>\n",
       "      <td>SUV - SMALL</td>\n",
       "      <td>3.0</td>\n",
       "      <td>6</td>\n",
       "      <td>AS6</td>\n",
       "      <td>X</td>\n",
       "      <td>13.4</td>\n",
       "      <td>9.8</td>\n",
       "      <td>11.8</td>\n",
       "      <td>24</td>\n",
       "      <td>271</td>\n",
       "    </tr>\n",
       "    <tr>\n",
       "      <th>1063</th>\n",
       "      <td>2014</td>\n",
       "      <td>VOLVO</td>\n",
       "      <td>XC60 AWD</td>\n",
       "      <td>SUV - SMALL</td>\n",
       "      <td>3.2</td>\n",
       "      <td>6</td>\n",
       "      <td>AS6</td>\n",
       "      <td>X</td>\n",
       "      <td>13.2</td>\n",
       "      <td>9.5</td>\n",
       "      <td>11.5</td>\n",
       "      <td>25</td>\n",
       "      <td>264</td>\n",
       "    </tr>\n",
       "    <tr>\n",
       "      <th>1064</th>\n",
       "      <td>2014</td>\n",
       "      <td>VOLVO</td>\n",
       "      <td>XC70 AWD</td>\n",
       "      <td>SUV - SMALL</td>\n",
       "      <td>3.0</td>\n",
       "      <td>6</td>\n",
       "      <td>AS6</td>\n",
       "      <td>X</td>\n",
       "      <td>13.4</td>\n",
       "      <td>9.8</td>\n",
       "      <td>11.8</td>\n",
       "      <td>24</td>\n",
       "      <td>271</td>\n",
       "    </tr>\n",
       "    <tr>\n",
       "      <th>1065</th>\n",
       "      <td>2014</td>\n",
       "      <td>VOLVO</td>\n",
       "      <td>XC70 AWD</td>\n",
       "      <td>SUV - SMALL</td>\n",
       "      <td>3.2</td>\n",
       "      <td>6</td>\n",
       "      <td>AS6</td>\n",
       "      <td>X</td>\n",
       "      <td>12.9</td>\n",
       "      <td>9.3</td>\n",
       "      <td>11.3</td>\n",
       "      <td>25</td>\n",
       "      <td>260</td>\n",
       "    </tr>\n",
       "    <tr>\n",
       "      <th>1066</th>\n",
       "      <td>2014</td>\n",
       "      <td>VOLVO</td>\n",
       "      <td>XC90 AWD</td>\n",
       "      <td>SUV - STANDARD</td>\n",
       "      <td>3.2</td>\n",
       "      <td>6</td>\n",
       "      <td>AS6</td>\n",
       "      <td>X</td>\n",
       "      <td>14.9</td>\n",
       "      <td>10.2</td>\n",
       "      <td>12.8</td>\n",
       "      <td>22</td>\n",
       "      <td>294</td>\n",
       "    </tr>\n",
       "  </tbody>\n",
       "</table>\n",
       "<p>1067 rows × 13 columns</p>\n",
       "</div>"
      ],
      "text/plain": [
       "      MODELYEAR   MAKE       MODEL    VEHICLECLASS  ENGINESIZE  CYLINDERS  \\\n",
       "0          2014  ACURA         ILX         COMPACT         2.0          4   \n",
       "1          2014  ACURA         ILX         COMPACT         2.4          4   \n",
       "2          2014  ACURA  ILX HYBRID         COMPACT         1.5          4   \n",
       "3          2014  ACURA     MDX 4WD     SUV - SMALL         3.5          6   \n",
       "4          2014  ACURA     RDX AWD     SUV - SMALL         3.5          6   \n",
       "...         ...    ...         ...             ...         ...        ...   \n",
       "1062       2014  VOLVO    XC60 AWD     SUV - SMALL         3.0          6   \n",
       "1063       2014  VOLVO    XC60 AWD     SUV - SMALL         3.2          6   \n",
       "1064       2014  VOLVO    XC70 AWD     SUV - SMALL         3.0          6   \n",
       "1065       2014  VOLVO    XC70 AWD     SUV - SMALL         3.2          6   \n",
       "1066       2014  VOLVO    XC90 AWD  SUV - STANDARD         3.2          6   \n",
       "\n",
       "     TRANSMISSION FUELTYPE  FUELCONSUMPTION_CITY  FUELCONSUMPTION_HWY  \\\n",
       "0             AS5        Z                   9.9                  6.7   \n",
       "1              M6        Z                  11.2                  7.7   \n",
       "2             AV7        Z                   6.0                  5.8   \n",
       "3             AS6        Z                  12.7                  9.1   \n",
       "4             AS6        Z                  12.1                  8.7   \n",
       "...           ...      ...                   ...                  ...   \n",
       "1062          AS6        X                  13.4                  9.8   \n",
       "1063          AS6        X                  13.2                  9.5   \n",
       "1064          AS6        X                  13.4                  9.8   \n",
       "1065          AS6        X                  12.9                  9.3   \n",
       "1066          AS6        X                  14.9                 10.2   \n",
       "\n",
       "      FUELCONSUMPTION_COMB  FUELCONSUMPTION_COMB_MPG  CO2EMISSIONS  \n",
       "0                      8.5                        33           196  \n",
       "1                      9.6                        29           221  \n",
       "2                      5.9                        48           136  \n",
       "3                     11.1                        25           255  \n",
       "4                     10.6                        27           244  \n",
       "...                    ...                       ...           ...  \n",
       "1062                  11.8                        24           271  \n",
       "1063                  11.5                        25           264  \n",
       "1064                  11.8                        24           271  \n",
       "1065                  11.3                        25           260  \n",
       "1066                  12.8                        22           294  \n",
       "\n",
       "[1067 rows x 13 columns]"
      ]
     },
     "execution_count": 43,
     "metadata": {},
     "output_type": "execute_result"
    }
   ],
   "source": [
    "dataset=pd.read_csv(\"datasets_255305_536206_fuelconsumption.csv\")\n",
    "dataset"
   ]
  },
  {
   "cell_type": "code",
   "execution_count": 44,
   "metadata": {},
   "outputs": [
    {
     "name": "stdout",
     "output_type": "stream",
     "text": [
      "<class 'pandas.core.frame.DataFrame'>\n",
      "RangeIndex: 1067 entries, 0 to 1066\n",
      "Data columns (total 13 columns):\n",
      " #   Column                    Non-Null Count  Dtype  \n",
      "---  ------                    --------------  -----  \n",
      " 0   MODELYEAR                 1067 non-null   int64  \n",
      " 1   MAKE                      1067 non-null   object \n",
      " 2   MODEL                     1067 non-null   object \n",
      " 3   VEHICLECLASS              1067 non-null   object \n",
      " 4   ENGINESIZE                1067 non-null   float64\n",
      " 5   CYLINDERS                 1067 non-null   int64  \n",
      " 6   TRANSMISSION              1067 non-null   object \n",
      " 7   FUELTYPE                  1067 non-null   object \n",
      " 8   FUELCONSUMPTION_CITY      1067 non-null   float64\n",
      " 9   FUELCONSUMPTION_HWY       1067 non-null   float64\n",
      " 10  FUELCONSUMPTION_COMB      1067 non-null   float64\n",
      " 11  FUELCONSUMPTION_COMB_MPG  1067 non-null   int64  \n",
      " 12  CO2EMISSIONS              1067 non-null   int64  \n",
      "dtypes: float64(4), int64(4), object(5)\n",
      "memory usage: 108.5+ KB\n"
     ]
    }
   ],
   "source": [
    "dataset.info()"
   ]
  },
  {
   "cell_type": "markdown",
   "metadata": {},
   "source": [
    "# DROPPING UNWANTED COLUMNS"
   ]
  },
  {
   "cell_type": "code",
   "execution_count": 3,
   "metadata": {},
   "outputs": [
    {
     "data": {
      "text/html": [
       "<div>\n",
       "<style scoped>\n",
       "    .dataframe tbody tr th:only-of-type {\n",
       "        vertical-align: middle;\n",
       "    }\n",
       "\n",
       "    .dataframe tbody tr th {\n",
       "        vertical-align: top;\n",
       "    }\n",
       "\n",
       "    .dataframe thead th {\n",
       "        text-align: right;\n",
       "    }\n",
       "</style>\n",
       "<table border=\"1\" class=\"dataframe\">\n",
       "  <thead>\n",
       "    <tr style=\"text-align: right;\">\n",
       "      <th></th>\n",
       "      <th>ENGINESIZE</th>\n",
       "      <th>CYLINDERS</th>\n",
       "      <th>FUELTYPE</th>\n",
       "      <th>FUELCONSUMPTION_CITY</th>\n",
       "      <th>FUELCONSUMPTION_HWY</th>\n",
       "      <th>FUELCONSUMPTION_COMB_MPG</th>\n",
       "      <th>CO2EMISSIONS</th>\n",
       "    </tr>\n",
       "  </thead>\n",
       "  <tbody>\n",
       "    <tr>\n",
       "      <th>0</th>\n",
       "      <td>2.0</td>\n",
       "      <td>4</td>\n",
       "      <td>Z</td>\n",
       "      <td>9.9</td>\n",
       "      <td>6.7</td>\n",
       "      <td>33</td>\n",
       "      <td>196</td>\n",
       "    </tr>\n",
       "    <tr>\n",
       "      <th>1</th>\n",
       "      <td>2.4</td>\n",
       "      <td>4</td>\n",
       "      <td>Z</td>\n",
       "      <td>11.2</td>\n",
       "      <td>7.7</td>\n",
       "      <td>29</td>\n",
       "      <td>221</td>\n",
       "    </tr>\n",
       "    <tr>\n",
       "      <th>2</th>\n",
       "      <td>1.5</td>\n",
       "      <td>4</td>\n",
       "      <td>Z</td>\n",
       "      <td>6.0</td>\n",
       "      <td>5.8</td>\n",
       "      <td>48</td>\n",
       "      <td>136</td>\n",
       "    </tr>\n",
       "    <tr>\n",
       "      <th>3</th>\n",
       "      <td>3.5</td>\n",
       "      <td>6</td>\n",
       "      <td>Z</td>\n",
       "      <td>12.7</td>\n",
       "      <td>9.1</td>\n",
       "      <td>25</td>\n",
       "      <td>255</td>\n",
       "    </tr>\n",
       "    <tr>\n",
       "      <th>4</th>\n",
       "      <td>3.5</td>\n",
       "      <td>6</td>\n",
       "      <td>Z</td>\n",
       "      <td>12.1</td>\n",
       "      <td>8.7</td>\n",
       "      <td>27</td>\n",
       "      <td>244</td>\n",
       "    </tr>\n",
       "    <tr>\n",
       "      <th>...</th>\n",
       "      <td>...</td>\n",
       "      <td>...</td>\n",
       "      <td>...</td>\n",
       "      <td>...</td>\n",
       "      <td>...</td>\n",
       "      <td>...</td>\n",
       "      <td>...</td>\n",
       "    </tr>\n",
       "    <tr>\n",
       "      <th>1062</th>\n",
       "      <td>3.0</td>\n",
       "      <td>6</td>\n",
       "      <td>X</td>\n",
       "      <td>13.4</td>\n",
       "      <td>9.8</td>\n",
       "      <td>24</td>\n",
       "      <td>271</td>\n",
       "    </tr>\n",
       "    <tr>\n",
       "      <th>1063</th>\n",
       "      <td>3.2</td>\n",
       "      <td>6</td>\n",
       "      <td>X</td>\n",
       "      <td>13.2</td>\n",
       "      <td>9.5</td>\n",
       "      <td>25</td>\n",
       "      <td>264</td>\n",
       "    </tr>\n",
       "    <tr>\n",
       "      <th>1064</th>\n",
       "      <td>3.0</td>\n",
       "      <td>6</td>\n",
       "      <td>X</td>\n",
       "      <td>13.4</td>\n",
       "      <td>9.8</td>\n",
       "      <td>24</td>\n",
       "      <td>271</td>\n",
       "    </tr>\n",
       "    <tr>\n",
       "      <th>1065</th>\n",
       "      <td>3.2</td>\n",
       "      <td>6</td>\n",
       "      <td>X</td>\n",
       "      <td>12.9</td>\n",
       "      <td>9.3</td>\n",
       "      <td>25</td>\n",
       "      <td>260</td>\n",
       "    </tr>\n",
       "    <tr>\n",
       "      <th>1066</th>\n",
       "      <td>3.2</td>\n",
       "      <td>6</td>\n",
       "      <td>X</td>\n",
       "      <td>14.9</td>\n",
       "      <td>10.2</td>\n",
       "      <td>22</td>\n",
       "      <td>294</td>\n",
       "    </tr>\n",
       "  </tbody>\n",
       "</table>\n",
       "<p>1067 rows × 7 columns</p>\n",
       "</div>"
      ],
      "text/plain": [
       "      ENGINESIZE  CYLINDERS FUELTYPE  FUELCONSUMPTION_CITY  \\\n",
       "0            2.0          4        Z                   9.9   \n",
       "1            2.4          4        Z                  11.2   \n",
       "2            1.5          4        Z                   6.0   \n",
       "3            3.5          6        Z                  12.7   \n",
       "4            3.5          6        Z                  12.1   \n",
       "...          ...        ...      ...                   ...   \n",
       "1062         3.0          6        X                  13.4   \n",
       "1063         3.2          6        X                  13.2   \n",
       "1064         3.0          6        X                  13.4   \n",
       "1065         3.2          6        X                  12.9   \n",
       "1066         3.2          6        X                  14.9   \n",
       "\n",
       "      FUELCONSUMPTION_HWY  FUELCONSUMPTION_COMB_MPG  CO2EMISSIONS  \n",
       "0                     6.7                        33           196  \n",
       "1                     7.7                        29           221  \n",
       "2                     5.8                        48           136  \n",
       "3                     9.1                        25           255  \n",
       "4                     8.7                        27           244  \n",
       "...                   ...                       ...           ...  \n",
       "1062                  9.8                        24           271  \n",
       "1063                  9.5                        25           264  \n",
       "1064                  9.8                        24           271  \n",
       "1065                  9.3                        25           260  \n",
       "1066                 10.2                        22           294  \n",
       "\n",
       "[1067 rows x 7 columns]"
      ]
     },
     "execution_count": 3,
     "metadata": {},
     "output_type": "execute_result"
    }
   ],
   "source": [
    "dataset.drop([\"MODEL\",\"VEHICLECLASS\",\"TRANSMISSION\",\"MAKE\",\"MODELYEAR\",\"FUELCONSUMPTION_COMB\"],axis=1,inplace=True)\n",
    "dataset"
   ]
  },
  {
   "cell_type": "code",
   "execution_count": 4,
   "metadata": {
    "scrolled": true
   },
   "outputs": [
    {
     "data": {
      "text/html": [
       "<div>\n",
       "<style scoped>\n",
       "    .dataframe tbody tr th:only-of-type {\n",
       "        vertical-align: middle;\n",
       "    }\n",
       "\n",
       "    .dataframe tbody tr th {\n",
       "        vertical-align: top;\n",
       "    }\n",
       "\n",
       "    .dataframe thead th {\n",
       "        text-align: right;\n",
       "    }\n",
       "</style>\n",
       "<table border=\"1\" class=\"dataframe\">\n",
       "  <thead>\n",
       "    <tr style=\"text-align: right;\">\n",
       "      <th></th>\n",
       "      <th>ENGINESIZE</th>\n",
       "      <th>CYLINDERS</th>\n",
       "      <th>FUELCONSUMPTION_CITY</th>\n",
       "      <th>FUELCONSUMPTION_HWY</th>\n",
       "      <th>FUELCONSUMPTION_COMB_MPG</th>\n",
       "      <th>CO2EMISSIONS</th>\n",
       "    </tr>\n",
       "  </thead>\n",
       "  <tbody>\n",
       "    <tr>\n",
       "      <th>count</th>\n",
       "      <td>1067.000000</td>\n",
       "      <td>1067.000000</td>\n",
       "      <td>1067.000000</td>\n",
       "      <td>1067.000000</td>\n",
       "      <td>1067.000000</td>\n",
       "      <td>1067.000000</td>\n",
       "    </tr>\n",
       "    <tr>\n",
       "      <th>mean</th>\n",
       "      <td>3.346298</td>\n",
       "      <td>5.794752</td>\n",
       "      <td>13.296532</td>\n",
       "      <td>9.474602</td>\n",
       "      <td>26.441425</td>\n",
       "      <td>256.228679</td>\n",
       "    </tr>\n",
       "    <tr>\n",
       "      <th>std</th>\n",
       "      <td>1.415895</td>\n",
       "      <td>1.797447</td>\n",
       "      <td>4.101253</td>\n",
       "      <td>2.794510</td>\n",
       "      <td>7.468702</td>\n",
       "      <td>63.372304</td>\n",
       "    </tr>\n",
       "    <tr>\n",
       "      <th>min</th>\n",
       "      <td>1.000000</td>\n",
       "      <td>3.000000</td>\n",
       "      <td>4.600000</td>\n",
       "      <td>4.900000</td>\n",
       "      <td>11.000000</td>\n",
       "      <td>108.000000</td>\n",
       "    </tr>\n",
       "    <tr>\n",
       "      <th>25%</th>\n",
       "      <td>2.000000</td>\n",
       "      <td>4.000000</td>\n",
       "      <td>10.250000</td>\n",
       "      <td>7.500000</td>\n",
       "      <td>21.000000</td>\n",
       "      <td>207.000000</td>\n",
       "    </tr>\n",
       "    <tr>\n",
       "      <th>50%</th>\n",
       "      <td>3.400000</td>\n",
       "      <td>6.000000</td>\n",
       "      <td>12.600000</td>\n",
       "      <td>8.800000</td>\n",
       "      <td>26.000000</td>\n",
       "      <td>251.000000</td>\n",
       "    </tr>\n",
       "    <tr>\n",
       "      <th>75%</th>\n",
       "      <td>4.300000</td>\n",
       "      <td>8.000000</td>\n",
       "      <td>15.550000</td>\n",
       "      <td>10.850000</td>\n",
       "      <td>31.000000</td>\n",
       "      <td>294.000000</td>\n",
       "    </tr>\n",
       "    <tr>\n",
       "      <th>max</th>\n",
       "      <td>8.400000</td>\n",
       "      <td>12.000000</td>\n",
       "      <td>30.200000</td>\n",
       "      <td>20.500000</td>\n",
       "      <td>60.000000</td>\n",
       "      <td>488.000000</td>\n",
       "    </tr>\n",
       "  </tbody>\n",
       "</table>\n",
       "</div>"
      ],
      "text/plain": [
       "        ENGINESIZE    CYLINDERS  FUELCONSUMPTION_CITY  FUELCONSUMPTION_HWY  \\\n",
       "count  1067.000000  1067.000000           1067.000000          1067.000000   \n",
       "mean      3.346298     5.794752             13.296532             9.474602   \n",
       "std       1.415895     1.797447              4.101253             2.794510   \n",
       "min       1.000000     3.000000              4.600000             4.900000   \n",
       "25%       2.000000     4.000000             10.250000             7.500000   \n",
       "50%       3.400000     6.000000             12.600000             8.800000   \n",
       "75%       4.300000     8.000000             15.550000            10.850000   \n",
       "max       8.400000    12.000000             30.200000            20.500000   \n",
       "\n",
       "       FUELCONSUMPTION_COMB_MPG  CO2EMISSIONS  \n",
       "count               1067.000000   1067.000000  \n",
       "mean                  26.441425    256.228679  \n",
       "std                    7.468702     63.372304  \n",
       "min                   11.000000    108.000000  \n",
       "25%                   21.000000    207.000000  \n",
       "50%                   26.000000    251.000000  \n",
       "75%                   31.000000    294.000000  \n",
       "max                   60.000000    488.000000  "
      ]
     },
     "execution_count": 4,
     "metadata": {},
     "output_type": "execute_result"
    }
   ],
   "source": [
    "dataset.describe()"
   ]
  },
  {
   "cell_type": "code",
   "execution_count": 5,
   "metadata": {},
   "outputs": [
    {
     "data": {
      "image/png": "[encoded data removed]",
      "text/plain": [
       "<Figure size 1440x1080 with 6 Axes>"
      ]
     },
     "metadata": {
      "needs_background": "light"
     },
     "output_type": "display_data"
    }
   ],
   "source": [
    "dataset.hist(bins=50, figsize=(20,15))\n",
    "plt.show()"
   ]
  },
  {
   "cell_type": "markdown",
   "metadata": {},
   "source": [
    "# CHECKING CORRELATION"
   ]
  },
  {
   "cell_type": "code",
   "execution_count": 6,
   "metadata": {},
   "outputs": [
    {
     "data": {
      "text/html": [
       "<div>\n",
       "<style scoped>\n",
       "    .dataframe tbody tr th:only-of-type {\n",
       "        vertical-align: middle;\n",
       "    }\n",
       "\n",
       "    .dataframe tbody tr th {\n",
       "        vertical-align: top;\n",
       "    }\n",
       "\n",
       "    .dataframe thead th {\n",
       "        text-align: right;\n",
       "    }\n",
       "</style>\n",
       "<table border=\"1\" class=\"dataframe\">\n",
       "  <thead>\n",
       "    <tr style=\"text-align: right;\">\n",
       "      <th></th>\n",
       "      <th>ENGINESIZE</th>\n",
       "      <th>CYLINDERS</th>\n",
       "      <th>FUELCONSUMPTION_CITY</th>\n",
       "      <th>FUELCONSUMPTION_HWY</th>\n",
       "      <th>FUELCONSUMPTION_COMB_MPG</th>\n",
       "      <th>CO2EMISSIONS</th>\n",
       "    </tr>\n",
       "  </thead>\n",
       "  <tbody>\n",
       "    <tr>\n",
       "      <th>ENGINESIZE</th>\n",
       "      <td>1.000000</td>\n",
       "      <td>0.934011</td>\n",
       "      <td>0.832225</td>\n",
       "      <td>0.778746</td>\n",
       "      <td>-0.808554</td>\n",
       "      <td>0.874154</td>\n",
       "    </tr>\n",
       "    <tr>\n",
       "      <th>CYLINDERS</th>\n",
       "      <td>0.934011</td>\n",
       "      <td>1.000000</td>\n",
       "      <td>0.796473</td>\n",
       "      <td>0.724594</td>\n",
       "      <td>-0.770430</td>\n",
       "      <td>0.849685</td>\n",
       "    </tr>\n",
       "    <tr>\n",
       "      <th>FUELCONSUMPTION_CITY</th>\n",
       "      <td>0.832225</td>\n",
       "      <td>0.796473</td>\n",
       "      <td>1.000000</td>\n",
       "      <td>0.965718</td>\n",
       "      <td>-0.935613</td>\n",
       "      <td>0.898039</td>\n",
       "    </tr>\n",
       "    <tr>\n",
       "      <th>FUELCONSUMPTION_HWY</th>\n",
       "      <td>0.778746</td>\n",
       "      <td>0.724594</td>\n",
       "      <td>0.965718</td>\n",
       "      <td>1.000000</td>\n",
       "      <td>-0.893809</td>\n",
       "      <td>0.861748</td>\n",
       "    </tr>\n",
       "    <tr>\n",
       "      <th>FUELCONSUMPTION_COMB_MPG</th>\n",
       "      <td>-0.808554</td>\n",
       "      <td>-0.770430</td>\n",
       "      <td>-0.935613</td>\n",
       "      <td>-0.893809</td>\n",
       "      <td>1.000000</td>\n",
       "      <td>-0.906394</td>\n",
       "    </tr>\n",
       "    <tr>\n",
       "      <th>CO2EMISSIONS</th>\n",
       "      <td>0.874154</td>\n",
       "      <td>0.849685</td>\n",
       "      <td>0.898039</td>\n",
       "      <td>0.861748</td>\n",
       "      <td>-0.906394</td>\n",
       "      <td>1.000000</td>\n",
       "    </tr>\n",
       "  </tbody>\n",
       "</table>\n",
       "</div>"
      ],
      "text/plain": [
       "                          ENGINESIZE  CYLINDERS  FUELCONSUMPTION_CITY  \\\n",
       "ENGINESIZE                  1.000000   0.934011              0.832225   \n",
       "CYLINDERS                   0.934011   1.000000              0.796473   \n",
       "FUELCONSUMPTION_CITY        0.832225   0.796473              1.000000   \n",
       "FUELCONSUMPTION_HWY         0.778746   0.724594              0.965718   \n",
       "FUELCONSUMPTION_COMB_MPG   -0.808554  -0.770430             -0.935613   \n",
       "CO2EMISSIONS                0.874154   0.849685              0.898039   \n",
       "\n",
       "                          FUELCONSUMPTION_HWY  FUELCONSUMPTION_COMB_MPG  \\\n",
       "ENGINESIZE                           0.778746                 -0.808554   \n",
       "CYLINDERS                            0.724594                 -0.770430   \n",
       "FUELCONSUMPTION_CITY                 0.965718                 -0.935613   \n",
       "FUELCONSUMPTION_HWY                  1.000000                 -0.893809   \n",
       "FUELCONSUMPTION_COMB_MPG            -0.893809                  1.000000   \n",
       "CO2EMISSIONS                         0.861748                 -0.906394   \n",
       "\n",
       "                          CO2EMISSIONS  \n",
       "ENGINESIZE                    0.874154  \n",
       "CYLINDERS                     0.849685  \n",
       "FUELCONSUMPTION_CITY          0.898039  \n",
       "FUELCONSUMPTION_HWY           0.861748  \n",
       "FUELCONSUMPTION_COMB_MPG     -0.906394  \n",
       "CO2EMISSIONS                  1.000000  "
      ]
     },
     "execution_count": 6,
     "metadata": {},
     "output_type": "execute_result"
    }
   ],
   "source": [
    "dataset.corr()"
   ]
  },
  {
   "cell_type": "markdown",
   "metadata": {},
   "source": [
    "# DATA VISUALIZATION"
   ]
  },
  {
   "cell_type": "code",
   "execution_count": 47,
   "metadata": {},
   "outputs": [
    {
     "data": {
      "text/plain": [
       "<matplotlib.axes._subplots.AxesSubplot at 0x1a1f5079a48>"
      ]
     },
     "execution_count": 47,
     "metadata": {},
     "output_type": "execute_result"
    },
    {
     "data": {
      "image/png": "[encoded data removed]",
      "text/plain": [
       "<Figure size 432x288 with 2 Axes>"
      ]
     },
     "metadata": {
      "needs_background": "light"
     },
     "output_type": "display_data"
    }
   ],
   "source": [
    "import seaborn as sns\n",
    "sns.heatmap(dataset.corr(),linewidths=0.1,annot=True)"
   ]
  },
  {
   "cell_type": "code",
   "execution_count": 8,
   "metadata": {},
   "outputs": [
    {
     "data": {
      "text/plain": [
       "<matplotlib.collections.PathCollection at 0x1a1f25a6108>"
      ]
     },
     "execution_count": 8,
     "metadata": {},
     "output_type": "execute_result"
    },
    {
     "data": {
      "image/png": "[encoded data removed]",
      "text/plain": [
       "<Figure size 432x288 with 1 Axes>"
      ]
     },
     "metadata": {
      "needs_background": "light"
     },
     "output_type": "display_data"
    }
   ],
   "source": [
    "plt.scatter(dataset['ENGINESIZE'],dataset[\"CO2EMISSIONS\"])"
   ]
  },
  {
   "cell_type": "code",
   "execution_count": 9,
   "metadata": {},
   "outputs": [
    {
     "data": {
      "text/plain": [
       "<matplotlib.collections.PathCollection at 0x1a1f25ea208>"
      ]
     },
     "execution_count": 9,
     "metadata": {},
     "output_type": "execute_result"
    },
    {
     "data": {
      "image/png": "[encoded data removed]",
      "text/plain": [
       "<Figure size 432x288 with 1 Axes>"
      ]
     },
     "metadata": {
      "needs_background": "light"
     },
     "output_type": "display_data"
    }
   ],
   "source": [
    "plt.scatter(dataset['CYLINDERS'],dataset[\"CO2EMISSIONS\"])"
   ]
  },
  {
   "cell_type": "code",
   "execution_count": 10,
   "metadata": {},
   "outputs": [
    {
     "data": {
      "text/plain": [
       "<matplotlib.collections.PathCollection at 0x1a1f20bacc8>"
      ]
     },
     "execution_count": 10,
     "metadata": {},
     "output_type": "execute_result"
    },
    {
     "data": {
      "image/png": "[encoded data removed]",
      "text/plain": [
       "<Figure size 432x288 with 1 Axes>"
      ]
     },
     "metadata": {
      "needs_background": "light"
     },
     "output_type": "display_data"
    }
   ],
   "source": [
    "plt.scatter(dataset['FUELCONSUMPTION_CITY'],dataset[\"CO2EMISSIONS\"])"
   ]
  },
  {
   "cell_type": "code",
   "execution_count": 11,
   "metadata": {},
   "outputs": [
    {
     "data": {
      "text/plain": [
       "<matplotlib.collections.PathCollection at 0x1a1f2c0b608>"
      ]
     },
     "execution_count": 11,
     "metadata": {},
     "output_type": "execute_result"
    },
    {
     "data": {
      "image/png": "[encoded data removed]",
      "text/plain": [
       "<Figure size 432x288 with 1 Axes>"
      ]
     },
     "metadata": {
      "needs_background": "light"
     },
     "output_type": "display_data"
    }
   ],
   "source": [
    "plt.scatter(dataset['FUELCONSUMPTION_HWY'],dataset[\"CO2EMISSIONS\"])"
   ]
  },
  {
   "cell_type": "code",
   "execution_count": 12,
   "metadata": {},
   "outputs": [],
   "source": [
    "#plt.scatter(dataset['FUELCONSUMPTION_COMB'],dataset[\"CO2EMISSIONS\"])"
   ]
  },
  {
   "cell_type": "code",
   "execution_count": 13,
   "metadata": {},
   "outputs": [
    {
     "data": {
      "text/plain": [
       "<matplotlib.collections.PathCollection at 0x1a1f21b8a08>"
      ]
     },
     "execution_count": 13,
     "metadata": {},
     "output_type": "execute_result"
    },
    {
     "data": {
      "image/png": "[encoded data removed]",
      "text/plain": [
       "<Figure size 432x288 with 1 Axes>"
      ]
     },
     "metadata": {
      "needs_background": "light"
     },
     "output_type": "display_data"
    }
   ],
   "source": [
    "plt.scatter(dataset['FUELCONSUMPTION_COMB_MPG'],dataset[\"CO2EMISSIONS\"])"
   ]
  },
  {
   "cell_type": "markdown",
   "metadata": {},
   "source": [
    "# CHECKING NULL VALUES"
   ]
  },
  {
   "cell_type": "code",
   "execution_count": 14,
   "metadata": {},
   "outputs": [
    {
     "data": {
      "text/plain": [
       "ENGINESIZE                  False\n",
       "CYLINDERS                   False\n",
       "FUELTYPE                    False\n",
       "FUELCONSUMPTION_CITY        False\n",
       "FUELCONSUMPTION_HWY         False\n",
       "FUELCONSUMPTION_COMB_MPG    False\n",
       "CO2EMISSIONS                False\n",
       "dtype: bool"
      ]
     },
     "execution_count": 14,
     "metadata": {},
     "output_type": "execute_result"
    }
   ],
   "source": [
    "dataset.isnull().any()"
   ]
  },
  {
   "cell_type": "markdown",
   "metadata": {},
   "source": [
    "# LABEL ENCODING"
   ]
  },
  {
   "cell_type": "code",
   "execution_count": 15,
   "metadata": {
    "scrolled": false
   },
   "outputs": [
    {
     "data": {
      "text/html": [
       "<div>\n",
       "<style scoped>\n",
       "    .dataframe tbody tr th:only-of-type {\n",
       "        vertical-align: middle;\n",
       "    }\n",
       "\n",
       "    .dataframe tbody tr th {\n",
       "        vertical-align: top;\n",
       "    }\n",
       "\n",
       "    .dataframe thead th {\n",
       "        text-align: right;\n",
       "    }\n",
       "</style>\n",
       "<table border=\"1\" class=\"dataframe\">\n",
       "  <thead>\n",
       "    <tr style=\"text-align: right;\">\n",
       "      <th></th>\n",
       "      <th>ENGINESIZE</th>\n",
       "      <th>CYLINDERS</th>\n",
       "      <th>FUELTYPE</th>\n",
       "      <th>FUELCONSUMPTION_CITY</th>\n",
       "      <th>FUELCONSUMPTION_HWY</th>\n",
       "      <th>FUELCONSUMPTION_COMB_MPG</th>\n",
       "      <th>CO2EMISSIONS</th>\n",
       "    </tr>\n",
       "  </thead>\n",
       "  <tbody>\n",
       "    <tr>\n",
       "      <th>0</th>\n",
       "      <td>2.0</td>\n",
       "      <td>4</td>\n",
       "      <td>3</td>\n",
       "      <td>9.9</td>\n",
       "      <td>6.7</td>\n",
       "      <td>33</td>\n",
       "      <td>196</td>\n",
       "    </tr>\n",
       "    <tr>\n",
       "      <th>1</th>\n",
       "      <td>2.4</td>\n",
       "      <td>4</td>\n",
       "      <td>3</td>\n",
       "      <td>11.2</td>\n",
       "      <td>7.7</td>\n",
       "      <td>29</td>\n",
       "      <td>221</td>\n",
       "    </tr>\n",
       "    <tr>\n",
       "      <th>2</th>\n",
       "      <td>1.5</td>\n",
       "      <td>4</td>\n",
       "      <td>3</td>\n",
       "      <td>6.0</td>\n",
       "      <td>5.8</td>\n",
       "      <td>48</td>\n",
       "      <td>136</td>\n",
       "    </tr>\n",
       "    <tr>\n",
       "      <th>3</th>\n",
       "      <td>3.5</td>\n",
       "      <td>6</td>\n",
       "      <td>3</td>\n",
       "      <td>12.7</td>\n",
       "      <td>9.1</td>\n",
       "      <td>25</td>\n",
       "      <td>255</td>\n",
       "    </tr>\n",
       "    <tr>\n",
       "      <th>4</th>\n",
       "      <td>3.5</td>\n",
       "      <td>6</td>\n",
       "      <td>3</td>\n",
       "      <td>12.1</td>\n",
       "      <td>8.7</td>\n",
       "      <td>27</td>\n",
       "      <td>244</td>\n",
       "    </tr>\n",
       "    <tr>\n",
       "      <th>...</th>\n",
       "      <td>...</td>\n",
       "      <td>...</td>\n",
       "      <td>...</td>\n",
       "      <td>...</td>\n",
       "      <td>...</td>\n",
       "      <td>...</td>\n",
       "      <td>...</td>\n",
       "    </tr>\n",
       "    <tr>\n",
       "      <th>1062</th>\n",
       "      <td>3.0</td>\n",
       "      <td>6</td>\n",
       "      <td>2</td>\n",
       "      <td>13.4</td>\n",
       "      <td>9.8</td>\n",
       "      <td>24</td>\n",
       "      <td>271</td>\n",
       "    </tr>\n",
       "    <tr>\n",
       "      <th>1063</th>\n",
       "      <td>3.2</td>\n",
       "      <td>6</td>\n",
       "      <td>2</td>\n",
       "      <td>13.2</td>\n",
       "      <td>9.5</td>\n",
       "      <td>25</td>\n",
       "      <td>264</td>\n",
       "    </tr>\n",
       "    <tr>\n",
       "      <th>1064</th>\n",
       "      <td>3.0</td>\n",
       "      <td>6</td>\n",
       "      <td>2</td>\n",
       "      <td>13.4</td>\n",
       "      <td>9.8</td>\n",
       "      <td>24</td>\n",
       "      <td>271</td>\n",
       "    </tr>\n",
       "    <tr>\n",
       "      <th>1065</th>\n",
       "      <td>3.2</td>\n",
       "      <td>6</td>\n",
       "      <td>2</td>\n",
       "      <td>12.9</td>\n",
       "      <td>9.3</td>\n",
       "      <td>25</td>\n",
       "      <td>260</td>\n",
       "    </tr>\n",
       "    <tr>\n",
       "      <th>1066</th>\n",
       "      <td>3.2</td>\n",
       "      <td>6</td>\n",
       "      <td>2</td>\n",
       "      <td>14.9</td>\n",
       "      <td>10.2</td>\n",
       "      <td>22</td>\n",
       "      <td>294</td>\n",
       "    </tr>\n",
       "  </tbody>\n",
       "</table>\n",
       "<p>1067 rows × 7 columns</p>\n",
       "</div>"
      ],
      "text/plain": [
       "      ENGINESIZE  CYLINDERS  FUELTYPE  FUELCONSUMPTION_CITY  \\\n",
       "0            2.0          4         3                   9.9   \n",
       "1            2.4          4         3                  11.2   \n",
       "2            1.5          4         3                   6.0   \n",
       "3            3.5          6         3                  12.7   \n",
       "4            3.5          6         3                  12.1   \n",
       "...          ...        ...       ...                   ...   \n",
       "1062         3.0          6         2                  13.4   \n",
       "1063         3.2          6         2                  13.2   \n",
       "1064         3.0          6         2                  13.4   \n",
       "1065         3.2          6         2                  12.9   \n",
       "1066         3.2          6         2                  14.9   \n",
       "\n",
       "      FUELCONSUMPTION_HWY  FUELCONSUMPTION_COMB_MPG  CO2EMISSIONS  \n",
       "0                     6.7                        33           196  \n",
       "1                     7.7                        29           221  \n",
       "2                     5.8                        48           136  \n",
       "3                     9.1                        25           255  \n",
       "4                     8.7                        27           244  \n",
       "...                   ...                       ...           ...  \n",
       "1062                  9.8                        24           271  \n",
       "1063                  9.5                        25           264  \n",
       "1064                  9.8                        24           271  \n",
       "1065                  9.3                        25           260  \n",
       "1066                 10.2                        22           294  \n",
       "\n",
       "[1067 rows x 7 columns]"
      ]
     },
     "execution_count": 15,
     "metadata": {},
     "output_type": "execute_result"
    }
   ],
   "source": [
    "from sklearn.preprocessing import LabelEncoder\n",
    "lb = LabelEncoder()\n",
    "dataset.iloc[:,2] = lb.fit_transform(dataset.iloc[:,2])\n",
    "dataset"
   ]
  },
  {
   "cell_type": "markdown",
   "metadata": {},
   "source": [
    "# Removing Outliers"
   ]
  },
  {
   "cell_type": "code",
   "execution_count": 16,
   "metadata": {},
   "outputs": [
    {
     "data": {
      "text/plain": [
       "array([[0.9512918 , 0.99896853, 1.01114784, ..., 0.99334135, 0.87855306,\n",
       "        0.95084   ],\n",
       "       [0.66865251, 0.99896853, 1.01114784, ..., 0.63532912, 0.34273362,\n",
       "        0.55616091],\n",
       "       [1.30459092, 0.99896853, 1.01114784, ..., 1.31555236, 2.88787597,\n",
       "        1.89806981],\n",
       "       ...,\n",
       "       [0.24469358, 0.11424235, 0.37382616, ..., 0.11649658, 0.32704069,\n",
       "        0.23319727],\n",
       "       [0.10337393, 0.11424235, 0.37382616, ..., 0.06250954, 0.19308583,\n",
       "        0.05953847],\n",
       "       [0.10337393, 0.11424235, 0.37382616, ..., 0.25970147, 0.59495041,\n",
       "        0.59630203]])"
      ]
     },
     "execution_count": 16,
     "metadata": {},
     "output_type": "execute_result"
    }
   ],
   "source": [
    "z=np.abs(stats.zscore(dataset))\n",
    "z"
   ]
  },
  {
   "cell_type": "code",
   "execution_count": 17,
   "metadata": {},
   "outputs": [
    {
     "data": {
      "text/plain": [
       "(array([  12,   13,   18,   27,   29,   32,   35,   36,   41,   43,   69,\n",
       "          71,   73,   74,   79,   80,  100,  112,  182,  201,  214,  216,\n",
       "         218,  220,  222,  225,  225,  228,  228,  344,  346,  348,  349,\n",
       "         351,  351,  362,  415,  438,  440,  442,  444,  446,  449,  449,\n",
       "         452,  452,  476,  487,  585,  633,  655,  687,  739,  756,  760,\n",
       "         764,  892,  913,  916,  922,  923,  924,  925,  926,  927,  928,\n",
       "         940,  941,  970,  987,  988,  989, 1024, 1025, 1032, 1033, 1040,\n",
       "        1041, 1042, 1048, 1049, 1055], dtype=int64),\n",
       " array([1, 1, 1, 2, 2, 2, 1, 2, 2, 2, 1, 1, 1, 1, 2, 2, 2, 1, 3, 2, 4, 4,\n",
       "        4, 4, 4, 3, 4, 3, 4, 4, 4, 4, 6, 3, 4, 4, 5, 4, 4, 4, 4, 4, 3, 4,\n",
       "        3, 4, 3, 5, 2, 1, 5, 4, 2, 2, 2, 2, 2, 2, 2, 1, 1, 1, 1, 1, 1, 1,\n",
       "        0, 0, 5, 5, 5, 5, 2, 2, 2, 2, 2, 2, 5, 2, 2, 2], dtype=int64))"
      ]
     },
     "execution_count": 17,
     "metadata": {},
     "output_type": "execute_result"
    }
   ],
   "source": [
    "threshold=3\n",
    "np.where(z>=threshold)"
   ]
  },
  {
   "cell_type": "code",
   "execution_count": 18,
   "metadata": {},
   "outputs": [
    {
     "data": {
      "text/html": [
       "<div>\n",
       "<style scoped>\n",
       "    .dataframe tbody tr th:only-of-type {\n",
       "        vertical-align: middle;\n",
       "    }\n",
       "\n",
       "    .dataframe tbody tr th {\n",
       "        vertical-align: top;\n",
       "    }\n",
       "\n",
       "    .dataframe thead th {\n",
       "        text-align: right;\n",
       "    }\n",
       "</style>\n",
       "<table border=\"1\" class=\"dataframe\">\n",
       "  <thead>\n",
       "    <tr style=\"text-align: right;\">\n",
       "      <th></th>\n",
       "      <th>ENGINESIZE</th>\n",
       "      <th>CYLINDERS</th>\n",
       "      <th>FUELTYPE</th>\n",
       "      <th>FUELCONSUMPTION_CITY</th>\n",
       "      <th>FUELCONSUMPTION_HWY</th>\n",
       "      <th>FUELCONSUMPTION_COMB_MPG</th>\n",
       "      <th>CO2EMISSIONS</th>\n",
       "    </tr>\n",
       "  </thead>\n",
       "  <tbody>\n",
       "    <tr>\n",
       "      <th>0</th>\n",
       "      <td>2.0</td>\n",
       "      <td>4</td>\n",
       "      <td>3</td>\n",
       "      <td>9.9</td>\n",
       "      <td>6.7</td>\n",
       "      <td>33</td>\n",
       "      <td>196</td>\n",
       "    </tr>\n",
       "    <tr>\n",
       "      <th>1</th>\n",
       "      <td>2.4</td>\n",
       "      <td>4</td>\n",
       "      <td>3</td>\n",
       "      <td>11.2</td>\n",
       "      <td>7.7</td>\n",
       "      <td>29</td>\n",
       "      <td>221</td>\n",
       "    </tr>\n",
       "    <tr>\n",
       "      <th>2</th>\n",
       "      <td>1.5</td>\n",
       "      <td>4</td>\n",
       "      <td>3</td>\n",
       "      <td>6.0</td>\n",
       "      <td>5.8</td>\n",
       "      <td>48</td>\n",
       "      <td>136</td>\n",
       "    </tr>\n",
       "    <tr>\n",
       "      <th>3</th>\n",
       "      <td>3.5</td>\n",
       "      <td>6</td>\n",
       "      <td>3</td>\n",
       "      <td>12.7</td>\n",
       "      <td>9.1</td>\n",
       "      <td>25</td>\n",
       "      <td>255</td>\n",
       "    </tr>\n",
       "    <tr>\n",
       "      <th>4</th>\n",
       "      <td>3.5</td>\n",
       "      <td>6</td>\n",
       "      <td>3</td>\n",
       "      <td>12.1</td>\n",
       "      <td>8.7</td>\n",
       "      <td>27</td>\n",
       "      <td>244</td>\n",
       "    </tr>\n",
       "    <tr>\n",
       "      <th>...</th>\n",
       "      <td>...</td>\n",
       "      <td>...</td>\n",
       "      <td>...</td>\n",
       "      <td>...</td>\n",
       "      <td>...</td>\n",
       "      <td>...</td>\n",
       "      <td>...</td>\n",
       "    </tr>\n",
       "    <tr>\n",
       "      <th>1062</th>\n",
       "      <td>3.0</td>\n",
       "      <td>6</td>\n",
       "      <td>2</td>\n",
       "      <td>13.4</td>\n",
       "      <td>9.8</td>\n",
       "      <td>24</td>\n",
       "      <td>271</td>\n",
       "    </tr>\n",
       "    <tr>\n",
       "      <th>1063</th>\n",
       "      <td>3.2</td>\n",
       "      <td>6</td>\n",
       "      <td>2</td>\n",
       "      <td>13.2</td>\n",
       "      <td>9.5</td>\n",
       "      <td>25</td>\n",
       "      <td>264</td>\n",
       "    </tr>\n",
       "    <tr>\n",
       "      <th>1064</th>\n",
       "      <td>3.0</td>\n",
       "      <td>6</td>\n",
       "      <td>2</td>\n",
       "      <td>13.4</td>\n",
       "      <td>9.8</td>\n",
       "      <td>24</td>\n",
       "      <td>271</td>\n",
       "    </tr>\n",
       "    <tr>\n",
       "      <th>1065</th>\n",
       "      <td>3.2</td>\n",
       "      <td>6</td>\n",
       "      <td>2</td>\n",
       "      <td>12.9</td>\n",
       "      <td>9.3</td>\n",
       "      <td>25</td>\n",
       "      <td>260</td>\n",
       "    </tr>\n",
       "    <tr>\n",
       "      <th>1066</th>\n",
       "      <td>3.2</td>\n",
       "      <td>6</td>\n",
       "      <td>2</td>\n",
       "      <td>14.9</td>\n",
       "      <td>10.2</td>\n",
       "      <td>22</td>\n",
       "      <td>294</td>\n",
       "    </tr>\n",
       "  </tbody>\n",
       "</table>\n",
       "<p>990 rows × 7 columns</p>\n",
       "</div>"
      ],
      "text/plain": [
       "      ENGINESIZE  CYLINDERS  FUELTYPE  FUELCONSUMPTION_CITY  \\\n",
       "0            2.0          4         3                   9.9   \n",
       "1            2.4          4         3                  11.2   \n",
       "2            1.5          4         3                   6.0   \n",
       "3            3.5          6         3                  12.7   \n",
       "4            3.5          6         3                  12.1   \n",
       "...          ...        ...       ...                   ...   \n",
       "1062         3.0          6         2                  13.4   \n",
       "1063         3.2          6         2                  13.2   \n",
       "1064         3.0          6         2                  13.4   \n",
       "1065         3.2          6         2                  12.9   \n",
       "1066         3.2          6         2                  14.9   \n",
       "\n",
       "      FUELCONSUMPTION_HWY  FUELCONSUMPTION_COMB_MPG  CO2EMISSIONS  \n",
       "0                     6.7                        33           196  \n",
       "1                     7.7                        29           221  \n",
       "2                     5.8                        48           136  \n",
       "3                     9.1                        25           255  \n",
       "4                     8.7                        27           244  \n",
       "...                   ...                       ...           ...  \n",
       "1062                  9.8                        24           271  \n",
       "1063                  9.5                        25           264  \n",
       "1064                  9.8                        24           271  \n",
       "1065                  9.3                        25           260  \n",
       "1066                 10.2                        22           294  \n",
       "\n",
       "[990 rows x 7 columns]"
      ]
     },
     "execution_count": 18,
     "metadata": {},
     "output_type": "execute_result"
    }
   ],
   "source": [
    "dataset=dataset[(z<=3).all(axis=1)]\n",
    "dataset"
   ]
  },
  {
   "cell_type": "markdown",
   "metadata": {},
   "source": [
    "# SEPARATING DEPENDENT AND INDEPENDENT VARIABLES"
   ]
  },
  {
   "cell_type": "code",
   "execution_count": 19,
   "metadata": {},
   "outputs": [
    {
     "data": {
      "text/plain": [
       "array([[ 2. ,  4. ,  3. ,  9.9,  6.7, 33. ],\n",
       "       [ 2.4,  4. ,  3. , 11.2,  7.7, 29. ],\n",
       "       [ 1.5,  4. ,  3. ,  6. ,  5.8, 48. ],\n",
       "       ...,\n",
       "       [ 3. ,  6. ,  2. , 13.4,  9.8, 24. ],\n",
       "       [ 3.2,  6. ,  2. , 12.9,  9.3, 25. ],\n",
       "       [ 3.2,  6. ,  2. , 14.9, 10.2, 22. ]])"
      ]
     },
     "execution_count": 19,
     "metadata": {},
     "output_type": "execute_result"
    }
   ],
   "source": [
    "x = dataset.iloc[:,0:6].values\n",
    "x"
   ]
  },
  {
   "cell_type": "code",
   "execution_count": 20,
   "metadata": {},
   "outputs": [
    {
     "data": {
      "text/plain": [
       "array([196, 221, 136, 255, 244, 230, 232, 255, 267, 212, 225, 239, 338,\n",
       "       354, 338, 354, 202, 230, 214, 230, 230, 214, 235, 251, 258, 258,\n",
       "       260, 258, 288, 242, 239, 258, 212, 304, 336, 407, 354, 409, 336,\n",
       "       407, 354, 409, 306, 308, 290, 262, 285, 262, 285, 267, 281, 281,\n",
       "       297, 292, 209, 209, 237, 237, 297, 320, 322, 437, 193, 200, 202,\n",
       "       193, 200, 209, 209, 209, 221, 230, 228, 237, 232, 193, 200, 209,\n",
       "       221, 230, 228, 237, 202, 209, 232, 246, 281, 292, 232, 292, 281,\n",
       "       292, 246, 292, 292, 191, 214, 212, 292, 292, 338, 317, 338, 317,\n",
       "       338, 317, 338, 317, 209, 260, 230, 253, 255, 320, 370, 274, 324,\n",
       "       209, 200, 278, 253, 278, 283, 290, 196, 212, 264, 250, 264, 264,\n",
       "       189, 228, 225, 246, 189, 228, 225, 218, 221, 235, 207, 251, 232,\n",
       "       260, 258, 262, 232, 248, 248, 260, 294, 253, 260, 255, 262, 382,\n",
       "       340, 382, 340, 382, 340, 338, 322, 377, 283, 294, 262, 271, 290,\n",
       "       258, 269, 242, 294, 292, 382, 340, 276, 258, 179, 179, 202, 189,\n",
       "       177, 163, 209, 276, 259, 230, 290, 272, 347, 366, 334, 380, 380,\n",
       "       380, 380, 380, 414, 432, 419, 435, 221, 244, 229, 200, 228, 184,\n",
       "       244, 235, 271, 269, 292, 270, 324, 290, 285, 299, 277, 329, 184,\n",
       "       173, 191, 182, 184, 172, 191, 182, 191, 182, 191, 182, 159, 159,\n",
       "       317, 294, 317, 294, 317, 294, 317, 294, 283, 290, 193, 186, 207,\n",
       "       237, 232, 246, 242, 230, 225, 230, 242, 230, 294, 251, 308, 251,\n",
       "       237, 237, 222, 317, 276, 269, 225, 230, 242, 230, 258, 301, 294,\n",
       "       320, 317, 258, 237, 294, 251, 308, 251, 237, 258, 251, 235, 222,\n",
       "       317, 186, 198, 202, 198, 195, 212, 202, 168, 168, 331, 278, 250,\n",
       "       271, 264, 255, 285, 276, 259, 179, 179, 182, 166, 179, 182, 156,\n",
       "       179, 200, 193, 138, 373, 396, 386, 421, 225, 248, 264, 281, 209,\n",
       "       221, 216, 214, 230, 368, 235, 299, 274, 254, 288, 267, 292, 294,\n",
       "       366, 317, 308, 402, 283, 264, 283, 264, 336, 315, 336, 315, 308,\n",
       "       288, 308, 288, 343, 320, 340, 318, 414, 175, 175, 152, 161, 184,\n",
       "       264, 278, 294, 205, 177, 165, 179, 165, 184, 170, 166, 162, 196,\n",
       "       186, 207, 205, 186, 216, 235, 244, 264, 292, 304, 244, 209, 271,\n",
       "       237, 229, 258, 251, 218, 228, 232, 239, 283, 297, 347, 366, 334,\n",
       "       380, 380, 380, 380, 380, 414, 432, 419, 435, 271, 269, 292, 270,\n",
       "       324, 290, 285, 299, 277, 329, 209, 276, 259, 230, 290, 272, 317,\n",
       "       294, 317, 294, 338, 322, 377, 317, 294, 317, 294, 182, 186, 200,\n",
       "       209, 221, 251, 161, 166, 175, 246, 209, 216, 145, 159, 172, 177,\n",
       "       244, 265, 276, 308, 177, 177, 198, 196, 304, 255, 258, 267, 237,\n",
       "       264, 255, 221, 196, 143, 145, 214, 232, 230, 242, 244, 177, 184,\n",
       "       202, 196, 235, 248, 172, 189, 265, 269, 283, 255, 267, 253, 283,\n",
       "       267, 294, 175, 271, 244, 253, 196, 294, 334, 345, 237, 244, 294,\n",
       "       242, 281, 306, 290, 306, 285, 306, 280, 285, 306, 280, 306, 306,\n",
       "       301, 290, 315, 310, 315, 310, 218, 242, 230, 248, 232, 253, 251,\n",
       "       267, 225, 209, 225, 216, 235, 216, 255, 340, 278, 250, 363, 225,\n",
       "       209, 225, 216, 235, 216, 255, 294, 294, 308, 308, 251, 191, 184,\n",
       "       193, 193, 223, 225, 193, 196, 216, 221, 193, 198, 228, 200, 175,\n",
       "       177, 175, 212, 214, 276, 237, 262, 253, 271, 205, 207, 209, 202,\n",
       "       230, 260, 262, 246, 361, 400, 274, 334, 225, 225, 354, 347, 342,\n",
       "       285, 285, 278, 345, 338, 331, 283, 283, 277, 354, 347, 342, 138,\n",
       "       221, 239, 253, 175, 320, 223, 239, 223, 244, 253, 244, 290, 283,\n",
       "       297, 297, 262, 380, 269, 255, 189, 271, 260, 294, 235, 281, 281,\n",
       "       207, 262, 145, 368, 292, 292, 347, 352, 334, 301, 189, 184, 198,\n",
       "       196, 205, 283, 290, 177, 170, 159, 161, 170, 168, 161, 163, 166,\n",
       "       177, 168, 166, 223, 225, 175, 186, 168, 235, 221, 228, 184, 216,\n",
       "       216, 242, 224, 242, 239, 244, 242, 347, 352, 304, 308, 179, 212,\n",
       "       264, 301, 301, 235, 230, 239, 242, 239, 235, 202, 267, 269, 262,\n",
       "       297, 310, 297, 310, 419, 407, 350, 359, 363, 260, 278, 256, 327,\n",
       "       356, 278, 276, 304, 269, 292, 327, 205, 207, 225, 246, 380, 361,\n",
       "       361, 179, 179, 179, 179, 200, 179, 175, 168, 200, 179, 179, 179,\n",
       "       191, 184, 191, 184, 207, 196, 191, 184, 207, 196, 191, 184, 191,\n",
       "       184, 191, 184, 207, 196, 191, 184, 207, 196, 191, 184, 189, 191,\n",
       "       218, 288, 283, 267, 198, 198, 138, 147, 198, 209, 235, 200, 202,\n",
       "       207, 253, 264, 262, 269, 175, 214, 380, 283, 260, 292, 315, 301,\n",
       "       297, 186, 198, 200, 251, 271, 214, 244, 253, 202, 255, 191, 198,\n",
       "       161, 179, 359, 398, 152, 177, 327, 315, 232, 246, 237, 246, 242,\n",
       "       253, 248, 253, 253, 258, 232, 246, 244, 248, 246, 251, 322, 274,\n",
       "       274, 274, 274, 212, 228, 225, 239, 276, 313, 320, 299, 251, 315,\n",
       "       212, 228, 225, 239, 251, 255, 260, 264, 292, 260, 294, 297, 340,\n",
       "       313, 354, 324, 290, 285, 274, 269, 260, 262, 254, 193, 218, 143,\n",
       "       207, 207, 228, 228, 184, 182, 147, 147, 196, 221, 218, 198, 223,\n",
       "       179, 196, 258, 288, 179, 196, 258, 288, 198, 228, 267, 207, 225,\n",
       "       269, 301, 196, 212, 177, 297, 297, 221, 189, 221, 138, 177, 168,\n",
       "       163, 170, 156, 159, 196, 189, 297, 320, 237, 258, 264, 191, 189,\n",
       "       205, 216, 218, 384, 260, 285, 251, 235, 301, 274, 271, 306, 322,\n",
       "       310, 329, 356, 347, 373, 230, 253, 235, 260, 168, 163, 196, 200,\n",
       "       209, 216, 225, 221, 200, 214, 216, 232, 223, 225, 283, 221, 218,\n",
       "       216, 189, 189, 216, 207, 207, 212, 198, 198, 223, 225, 248, 278,\n",
       "       246, 267, 246, 281, 223, 232, 264, 235, 264, 258, 271, 264, 271,\n",
       "       260, 294], dtype=int64)"
      ]
     },
     "execution_count": 20,
     "metadata": {},
     "output_type": "execute_result"
    }
   ],
   "source": [
    "y = dataset.iloc[:,-1].values\n",
    "y"
   ]
  },
  {
   "cell_type": "markdown",
   "metadata": {},
   "source": [
    "# FEATURE SCALING"
   ]
  },
  {
   "cell_type": "code",
   "execution_count": 21,
   "metadata": {},
   "outputs": [
    {
     "data": {
      "text/plain": [
       "array([[-9.48760523e-01, -1.03662186e+00,  1.07543659e+00,\n",
       "        -8.86413603e-01, -1.09350471e+00,  9.71535422e-01],\n",
       "       [-6.49771850e-01, -1.03662186e+00,  1.07543659e+00,\n",
       "        -5.20709385e-01, -6.72958649e-01,  3.74038874e-01],\n",
       "       [-1.32249636e+00, -1.03662186e+00,  1.07543659e+00,\n",
       "        -1.98352626e+00, -1.47199616e+00,  3.21214748e+00],\n",
       "       ...,\n",
       "       [-2.01288839e-01,  2.11105363e-01, -5.72678309e-01,\n",
       "         9.81746754e-02,  2.10188069e-01, -3.72831811e-01],\n",
       "       [-5.17945025e-02,  2.11105363e-01, -5.72678309e-01,\n",
       "        -4.24807930e-02, -8.49587993e-05, -2.23457674e-01],\n",
       "       [-5.17945025e-02,  2.11105363e-01, -5.72678309e-01,\n",
       "         5.20141080e-01,  3.78406492e-01, -6.71580084e-01]])"
      ]
     },
     "execution_count": 21,
     "metadata": {},
     "output_type": "execute_result"
    }
   ],
   "source": [
    "from sklearn.preprocessing import StandardScaler\n",
    "sc = StandardScaler()\n",
    "x = sc.fit_transform(x)\n",
    "x"
   ]
  },
  {
   "cell_type": "code",
   "execution_count": 22,
   "metadata": {},
   "outputs": [
    {
     "data": {
      "text/plain": [
       "['onehot']"
      ]
     },
     "execution_count": 22,
     "metadata": {},
     "output_type": "execute_result"
    }
   ],
   "source": [
    "joblib.dump(sc,'onehot')"
   ]
  },
  {
   "cell_type": "markdown",
   "metadata": {},
   "source": [
    "# SPLITTING DATA INTO TRAIN AND TEST"
   ]
  },
  {
   "cell_type": "code",
   "execution_count": 23,
   "metadata": {},
   "outputs": [],
   "source": [
    "from sklearn.model_selection import train_test_split\n",
    "x_train,x_test,y_train,y_test=train_test_split(x,y,test_size=0.3,random_state=0)"
   ]
  },
  {
   "cell_type": "code",
   "execution_count": 24,
   "metadata": {},
   "outputs": [
    {
     "data": {
      "text/plain": [
       "(693, 6)"
      ]
     },
     "execution_count": 24,
     "metadata": {},
     "output_type": "execute_result"
    }
   ],
   "source": [
    "x_train.shape"
   ]
  },
  {
   "cell_type": "code",
   "execution_count": 25,
   "metadata": {},
   "outputs": [
    {
     "data": {
      "text/plain": [
       "(297, 6)"
      ]
     },
     "execution_count": 25,
     "metadata": {},
     "output_type": "execute_result"
    }
   ],
   "source": [
    "x_test.shape"
   ]
  },
  {
   "cell_type": "code",
   "execution_count": 26,
   "metadata": {},
   "outputs": [
    {
     "data": {
      "text/plain": [
       "['multi.save']"
      ]
     },
     "execution_count": 26,
     "metadata": {},
     "output_type": "execute_result"
    }
   ],
   "source": [
    "from sklearn.ensemble import RandomForestRegressor\n",
    "rf= RandomForestRegressor(n_estimators=100,criterion=\"mae\",random_state=0)\n",
    "rf.fit(x_train,y_train)\n",
    "joblib.dump(rf,'multi.save')"
   ]
  },
  {
   "cell_type": "code",
   "execution_count": 27,
   "metadata": {},
   "outputs": [
    {
     "data": {
      "text/plain": [
       "array([191.   , 296.09 , 250.26 , 196.28 , 261.57 , 257.84 , 249.4  ,\n",
       "       259.27 , 240.62 , 208.66 , 209.06 , 167.275, 248.54 , 209.06 ,\n",
       "       272.1  , 338.88 , 172.945, 232.14 , 251.21 , 232.61 , 224.84 ,\n",
       "       380.04 , 294.87 , 286.2  , 297.8  , 229.17 , 203.23 , 209.14 ,\n",
       "       317.03 , 279.29 , 250.95 , 408.09 , 216.36 , 340.89 , 291.63 ,\n",
       "       280.14 , 209.4  , 190.9  , 166.64 , 311.42 , 420.55 , 271.64 ,\n",
       "       260.43 , 207.07 , 215.84 , 189.46 , 378.55 , 202.06 , 207.31 ,\n",
       "       273.875, 223.86 , 197.   , 179.03 , 319.1  , 270.135, 336.85 ,\n",
       "       234.15 , 229.17 , 173.165, 283.09 , 252.04 , 223.35 , 221.3  ,\n",
       "       324.32 , 319.37 , 313.61 , 181.79 , 174.43 , 263.   , 308.39 ,\n",
       "       208.94 , 292.1  , 341.33 , 378.31 , 208.07 , 282.6  , 269.43 ,\n",
       "       294.68 , 196.4  , 268.87 , 246.44 , 327.93 , 201.38 , 283.06 ,\n",
       "       196.3  , 380.04 , 148.9  , 223.91 , 294.35 , 191.96 , 238.5  ,\n",
       "       246.44 , 172.82 , 306.89 , 161.86 , 211.04 , 190.84 , 144.93 ,\n",
       "       363.31 , 318.02 , 361.61 , 239.06 , 172.55 , 184.   , 197.18 ,\n",
       "       167.5  , 221.9  , 318.89 , 270.135, 260.39 , 197.48 , 216.58 ,\n",
       "       407.74 , 176.52 , 239.04 , 250.77 , 173.29 , 240.22 , 317.03 ,\n",
       "       295.3  , 191.   , 161.15 , 223.95 , 258.67 , 306.55 , 176.4  ,\n",
       "       167.485, 267.98 , 291.99 , 179.72 , 318.02 , 191.   , 158.17 ,\n",
       "       294.   , 309.93 , 221.1  , 179.33 , 185.82 , 209.14 , 337.12 ,\n",
       "       408.79 , 239.84 , 306.07 , 184.   , 196.26 , 293.17 , 242.06 ,\n",
       "       260.39 , 237.96 , 241.72 , 432.72 , 239.6  , 292.41 , 379.62 ,\n",
       "       179.33 , 226.47 , 269.185, 282.4  , 327.93 , 215.04 , 260.9  ,\n",
       "       286.08 , 308.43 , 257.3  , 277.7  , 294.1  , 175.78 , 258.03 ,\n",
       "       196.28 , 254.01 , 359.1  , 275.045, 233.93 , 263.41 , 184.   ,\n",
       "       283.12 , 216.62 , 295.4  , 226.81 , 196.74 , 231.97 , 233.94 ,\n",
       "       233.09 , 309.01 , 221.56 , 261.94 , 291.62 , 295.84 , 184.12 ,\n",
       "       224.92 , 260.93 , 379.16 , 223.86 , 275.12 , 215.78 , 267.58 ,\n",
       "       223.95 , 318.28 , 283.61 , 409.3  , 282.99 , 257.88 , 233.54 ,\n",
       "       340.89 , 260.9  , 353.82 , 181.19 , 208.07 , 292.58 , 309.73 ,\n",
       "       184.6  , 341.76 , 308.84 , 214.82 , 197.64 , 299.13 , 269.57 ,\n",
       "       232.55 , 191.76 , 191.96 , 230.75 , 223.28 , 380.04 , 189.46 ,\n",
       "       156.05 , 239.06 , 416.29 , 341.76 , 263.32 , 273.525, 381.57 ,\n",
       "       139.3  , 196.52 , 280.31 , 207.89 , 191.54 , 246.5  , 252.69 ,\n",
       "       191.96 , 307.99 , 406.63 , 263.06 , 308.39 , 248.49 , 363.28 ,\n",
       "       222.07 , 337.12 , 309.14 , 233.93 , 308.94 , 274.38 , 167.175,\n",
       "       347.68 , 208.28 , 353.55 , 286.2  , 232.7  , 324.84 , 233.82 ,\n",
       "       243.78 , 201.85 , 224.92 , 281.8  , 325.1  , 201.5  , 258.03 ,\n",
       "       340.9  , 306.07 , 251.64 , 293.   , 203.85 , 262.32 , 252.8  ,\n",
       "       271.255, 207.07 , 407.11 , 257.68 , 184.64 , 340.89 , 190.92 ,\n",
       "       269.625, 269.43 , 201.38 , 215.46 , 272.16 , 190.32 , 263.38 ,\n",
       "       293.81 , 224.31 , 318.02 , 209.06 , 248.98 , 263.23 , 407.83 ,\n",
       "       308.43 , 184.28 , 179.03 ])"
      ]
     },
     "execution_count": 27,
     "metadata": {},
     "output_type": "execute_result"
    }
   ],
   "source": [
    "y_pred=rf.predict(x_test)\n",
    "y_pred"
   ]
  },
  {
   "cell_type": "code",
   "execution_count": 28,
   "metadata": {},
   "outputs": [
    {
     "data": {
      "text/plain": [
       "array([191, 297, 250, 196, 262, 258, 246, 258, 242, 209, 209, 166, 248,\n",
       "       209, 271, 338, 172, 232, 251, 235, 222, 380, 301, 288, 301, 230,\n",
       "       202, 209, 317, 283, 251, 419, 218, 340, 290, 283, 212, 189, 168,\n",
       "       313, 421, 271, 259, 207, 216, 189, 380, 205, 207, 276, 225, 196,\n",
       "       179, 320, 271, 338, 235, 230, 170, 283, 251, 225, 221, 324, 322,\n",
       "       315, 182, 175, 264, 308, 212, 290, 345, 377, 209, 283, 271, 301,\n",
       "       196, 267, 246, 342, 200, 283, 196, 380, 152, 223, 294, 193, 237,\n",
       "       246, 170, 304, 161, 212, 189, 145, 356, 317, 356, 237, 170, 184,\n",
       "       198, 168, 221, 322, 271, 260, 198, 216, 396, 177, 239, 251, 172,\n",
       "       244, 317, 301, 191, 163, 228, 258, 304, 175, 168, 267, 290, 179,\n",
       "       317, 191, 159, 294, 310, 221, 179, 186, 209, 336, 414, 239, 306,\n",
       "       184, 196, 294, 242, 260, 237, 242, 432, 239, 294, 373, 179, 228,\n",
       "       267, 281, 342, 214, 262, 288, 308, 262, 277, 292, 175, 258, 196,\n",
       "       256, 354, 276, 230, 265, 184, 285, 214, 297, 229, 198, 230, 235,\n",
       "       235, 310, 221, 264, 294, 297, 184, 225, 259, 373, 225, 276, 214,\n",
       "       269, 228, 320, 283, 409, 283, 258, 235, 340, 262, 354, 182, 209,\n",
       "       294, 310, 186, 347, 308, 214, 198, 301, 269, 235, 191, 193, 230,\n",
       "       221, 380, 189, 156, 237, 419, 347, 264, 274, 380, 136, 196, 281,\n",
       "       207, 193, 246, 253, 193, 308, 398, 264, 308, 246, 359, 221, 336,\n",
       "       315, 230, 306, 276, 168, 350, 207, 352, 288, 235, 334, 235, 244,\n",
       "       202, 225, 281, 322, 200, 258, 340, 306, 246, 294, 205, 264, 253,\n",
       "       274, 207, 407, 258, 184, 340, 191, 269, 271, 200, 216, 271, 189,\n",
       "       265, 299, 225, 317, 209, 248, 264, 400, 308, 184, 179], dtype=int64)"
      ]
     },
     "execution_count": 28,
     "metadata": {},
     "output_type": "execute_result"
    }
   ],
   "source": [
    "y_test"
   ]
  },
  {
   "cell_type": "code",
   "execution_count": 29,
   "metadata": {},
   "outputs": [
    {
     "data": {
      "text/plain": [
       "99.82540677929056"
      ]
     },
     "execution_count": 29,
     "metadata": {},
     "output_type": "execute_result"
    }
   ],
   "source": [
    "#Checking Accuracy\n",
    "from sklearn.metrics import r2_score\n",
    "r2_score(y_test,y_pred)*100"
   ]
  },
  {
   "cell_type": "code",
   "execution_count": 30,
   "metadata": {},
   "outputs": [],
   "source": [
    "def seize(ENGINESIZE,CYLINDERS,FUELTYPE,FUELCONSUMPTION_CITY,FUELCONSUMPTION_HWY,FUELCONSUMPTION_COMB_MPG):\n",
    "    CO2EMISSIONS=rf.predict(sc.transform([[ENGINESIZE,CYLINDERS,FUELTYPE,FUELCONSUMPTION_CITY,FUELCONSUMPTION_HWY,FUELCONSUMPTION_COMB_MPG]]))\n",
    "    print(CO2EMISSIONS)"
   ]
  },
  {
   "cell_type": "code",
   "execution_count": 31,
   "metadata": {},
   "outputs": [
    {
     "name": "stdout",
     "output_type": "stream",
     "text": [
      "[245.05]\n"
     ]
    }
   ],
   "source": [
    "seize(1.1,1.1,1.1,1.1,1.1,1.1)"
   ]
  },
  {
   "cell_type": "code",
   "execution_count": null,
   "metadata": {},
   "outputs": [],
   "source": []
  }
 ],
 "metadata": {
  "kernelspec": {
   "display_name": "Python 3",
   "language": "python",
   "name": "python3"
  },
  "language_info": {
   "codemirror_mode": {
    "name": "ipython",
    "version": 3
   },
   "file_extension": ".py",
   "mimetype": "text/x-python",
   "name": "python",
   "nbconvert_exporter": "python",
   "pygments_lexer": "ipython3",
   "version": "3.7.6"
  }
 },
 "nbformat": 4,
 "nbformat_minor": 4
}
